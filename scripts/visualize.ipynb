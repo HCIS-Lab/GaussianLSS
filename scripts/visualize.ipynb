{
 "cells": [
  {
   "cell_type": "code",
   "execution_count": null,
   "metadata": {},
   "outputs": [],
   "source": [
    "from common import prepare_val\n",
    "import torch\n",
    "\n",
    "device = torch.device('cuda:0') \n",
    "exp_id = '2025_0331_145017'\n",
    "CHECKPOINT_PATH = f\"../logs/GaussianLSS/{exp_id}/checkpoints/last.ckpt\"\n",
    "overrides = ['visualization.keys=[lane, road_segment, vehicle]', '+data.map_layers=[lane, road_segment]']\n",
    "model, network, loader, viz, dataset = prepare_val('GaussianLSS', device, CHECKPOINT_PATH, overrides=overrides, mode='split', batch_size=1)"
   ]
  },
  {
   "cell_type": "code",
   "execution_count": null,
   "metadata": {},
   "outputs": [],
   "source": [
    "import time\n",
    "\n",
    "GIF_PATH = 'predictions.gif'\n",
    "network.eval()\n",
    "network.to(device)\n",
    "images = []\n",
    "with torch.no_grad():\n",
    "    for i,batch in enumerate(loader):\n",
    "        print(i,end='\\r')\n",
    "        for k, v in batch.items():\n",
    "            if isinstance(v, torch.Tensor):\n",
    "                batch[k] = v.to(device)\n",
    "            elif isinstance(v, list):\n",
    "                if isinstance(v[0], torch.Tensor):\n",
    "                    batch[k] = [i.to(device) for i in v]\n",
    "            else:\n",
    "                batch[k] = v\n",
    "        pred = network(batch)\n",
    "        vis_result = viz(batch,pred)\n",
    "        images += vis_result"
   ]
  },
  {
   "cell_type": "code",
   "execution_count": null,
   "metadata": {},
   "outputs": [],
   "source": [
    "from PIL import Image\n",
    "\n",
    "frames = [Image.fromarray(f) for f in images]  # or use Image.fromarray(np_array)\n",
    "frames[0].save(\n",
    "    GIF_PATH,\n",
    "    save_all=True,\n",
    "    append_images=frames[1:],\n",
    "    duration=750,   # milliseconds\n",
    "    loop=0          # 0 = infinite loop\n",
    ")"
   ]
  }
 ],
 "metadata": {
  "kernelspec": {
   "display_name": "GaussianLSS",
   "language": "python",
   "name": "python3"
  },
  "language_info": {
   "codemirror_mode": {
    "name": "ipython",
    "version": 3
   },
   "file_extension": ".py",
   "mimetype": "text/x-python",
   "name": "python",
   "nbconvert_exporter": "python",
   "pygments_lexer": "ipython3",
   "version": "3.8.0"
  }
 },
 "nbformat": 4,
 "nbformat_minor": 2
}
