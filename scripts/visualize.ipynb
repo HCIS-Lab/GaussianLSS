{
 "cells": [
  {
   "cell_type": "code",
   "execution_count": 1,
   "metadata": {},
   "outputs": [
    {
     "name": "stdout",
     "output_type": "stream",
     "text": [
      "Loaded pretrained weights for efficientnet-b4\n"
     ]
    },
    {
     "name": "stderr",
     "output_type": "stream",
     "text": [
      "/home/hcis-s20/miniconda3/envs/GaussianLSS/lib/python3.8/site-packages/torchvision/models/_utils.py:208: UserWarning: The parameter 'pretrained' is deprecated since 0.13 and may be removed in the future, please use 'weights' instead.\n",
      "  warnings.warn(\n",
      "/home/hcis-s20/miniconda3/envs/GaussianLSS/lib/python3.8/site-packages/torchvision/models/_utils.py:223: UserWarning: Arguments other than a weight enum or `None` for 'weights' are deprecated since 0.13 and may be removed in the future. The current behavior is equivalent to passing `weights=None`.\n",
      "  warnings.warn(msg)\n"
     ]
    },
    {
     "name": "stdout",
     "output_type": "stream",
     "text": [
      "Initializing nuScenes map...\n",
      "Dataset length: 49\n",
      "Loaded checkpoint.\n"
     ]
    }
   ],
   "source": [
    "from common import prepare_val\n",
    "import torch\n",
    "\n",
    "device = torch.device('cuda:0') # cuda:5\n",
    "exp_id = '2025_0328_170504'\n",
    "CHECKPOINT_PATH = f\"../logs/GaussianLSS/{exp_id}/checkpoints/last.ckpt\"\n",
    "overrides = ['visualization.keys=[lane, road_segment, vehicle]', '+data.map_layers=[lane, road_segment]']\n",
    "model, network, loader, viz, dataset = prepare_val('GaussianLSS', device, CHECKPOINT_PATH, overrides=overrides, mode='split', batch_size=1)"
   ]
  },
  {
   "cell_type": "code",
   "execution_count": 2,
   "metadata": {},
   "outputs": [
    {
     "name": "stdout",
     "output_type": "stream",
     "text": [
      "0\r"
     ]
    },
    {
     "name": "stderr",
     "output_type": "stream",
     "text": [
      "/home/hcis-s20/miniconda3/envs/GaussianLSS/lib/python3.8/site-packages/torch/functional.py:504: UserWarning: torch.meshgrid: in an upcoming release, it will be required to pass the indexing argument. (Triggered internally at ../aten/src/ATen/native/TensorShape.cpp:3526.)\n",
      "  return _VF.meshgrid(tensors, **kwargs)  # type: ignore[attr-defined]\n"
     ]
    },
    {
     "name": "stdout",
     "output_type": "stream",
     "text": [
      "48\r"
     ]
    }
   ],
   "source": [
    "import time\n",
    "\n",
    "GIF_PATH = 'predictions.gif'\n",
    "network.eval()\n",
    "network.to(device)\n",
    "images = []\n",
    "with torch.no_grad():\n",
    "    for i,batch in enumerate(loader):\n",
    "        print(i,end='\\r')\n",
    "        for k, v in batch.items():\n",
    "            if isinstance(v, torch.Tensor):\n",
    "                batch[k] = v.to(device)\n",
    "            elif isinstance(v, list):\n",
    "                if isinstance(v[0], torch.Tensor):\n",
    "                    batch[k] = [i.to(device) for i in v]\n",
    "            else:\n",
    "                batch[k] = v\n",
    "        pred = network(batch)\n",
    "        vis_result = viz(batch,pred)\n",
    "        images += vis_result"
   ]
  },
  {
   "cell_type": "code",
   "execution_count": 3,
   "metadata": {},
   "outputs": [],
   "source": [
    "from PIL import Image\n",
    "\n",
    "frames = [Image.fromarray(f) for f in images]  # or use Image.fromarray(np_array)\n",
    "frames[0].save(\n",
    "    GIF_PATH,\n",
    "    save_all=True,\n",
    "    append_images=frames[1:],\n",
    "    duration=750,   # milliseconds\n",
    "    loop=0          # 0 = infinite loop\n",
    ")"
   ]
  }
 ],
 "metadata": {
  "kernelspec": {
   "display_name": "GaussianLSS",
   "language": "python",
   "name": "python3"
  },
  "language_info": {
   "codemirror_mode": {
    "name": "ipython",
    "version": 3
   },
   "file_extension": ".py",
   "mimetype": "text/x-python",
   "name": "python",
   "nbconvert_exporter": "python",
   "pygments_lexer": "ipython3",
   "version": "3.8.0"
  }
 },
 "nbformat": 4,
 "nbformat_minor": 2
}
