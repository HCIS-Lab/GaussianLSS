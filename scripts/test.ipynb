{
 "cells": [
  {
   "cell_type": "code",
   "execution_count": null,
   "metadata": {},
   "outputs": [],
   "source": [
    "from common import prepare_val\n",
    "import torch\n",
    "import matplotlib.pyplot as plt\n",
    "\n",
    "device = torch.device('cuda:0') \n",
    "CHECKPOINT_PATH = None\n",
    "overrides = []\n",
    "model, network, loader, viz, dataset = prepare_val('GaussianLSS', device, CHECKPOINT_PATH, overrides=overrides, mode='val', batch_size=1)"
   ]
  },
  {
   "cell_type": "code",
   "execution_count": null,
   "metadata": {},
   "outputs": [],
   "source": [
    "network.to(device)\n",
    "model.to(device)\n",
    "if CHECKPOINT_PATH is None:\n",
    "    model.metrics.reset()\n",
    "    network.train()\n",
    "    # with torch.no_grad():\n",
    "    for i,batch in enumerate(loader):\n",
    "        print(i,end='\\r')\n",
    "        if i != 0:\n",
    "            continue\n",
    "        for k, v in batch.items():\n",
    "            if isinstance(v, torch.Tensor):\n",
    "                batch[k] = v.to(device)\n",
    "            elif isinstance(v, list):\n",
    "                if isinstance(v[0], torch.Tensor):\n",
    "                    batch[k] = [i.to(device) for i in v]\n",
    "            else:\n",
    "                batch[k] = v\n",
    "        pred = network(batch)\n",
    "        loss = model.loss_func(pred,batch)\n",
    "        loss[0].backward()\n",
    "        vis_result = viz(batch,pred)\n",
    "        break\n",
    "    for name, param in model.named_parameters():\n",
    "        if param.requires_grad and param.grad is None:\n",
    "            print(name)\n",
    "        \n",
    "    model.metrics.update(pred,batch)\n",
    "else:\n",
    "    network.eval()\n",
    "    with torch.no_grad():\n",
    "        for i,batch in enumerate(loader):\n",
    "            for k, v in batch.items():\n",
    "                if isinstance(v, torch.Tensor):\n",
    "                    batch[k] = v.to(device)\n",
    "                elif isinstance(v, list):\n",
    "                    if isinstance(v[0], torch.Tensor):\n",
    "                        batch[k] = [i.to(device) for i in v]\n",
    "                else:\n",
    "                    batch[k] = v\n",
    "            pred = network(batch)\n",
    "            vis_result = viz(batch,pred)\n",
    "            break"
   ]
  },
  {
   "cell_type": "code",
   "execution_count": null,
   "metadata": {},
   "outputs": [],
   "source": [
    "plt.grid(False)\n",
    "plt.imshow(vis_result[0])"
   ]
  }
 ],
 "metadata": {
  "kernelspec": {
   "display_name": "GaussianLSS",
   "language": "python",
   "name": "python3"
  },
  "language_info": {
   "codemirror_mode": {
    "name": "ipython",
    "version": 3
   },
   "file_extension": ".py",
   "mimetype": "text/x-python",
   "name": "python",
   "nbconvert_exporter": "python",
   "pygments_lexer": "ipython3",
   "version": "3.8.0"
  }
 },
 "nbformat": 4,
 "nbformat_minor": 2
}
